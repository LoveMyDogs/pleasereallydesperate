{
 "cells": [
  {
   "cell_type": "markdown",
   "metadata": {},
   "source": [
    "# Lists, Dictionaries, Iteration\n",
    "> An introduction to Data Abstraction using Python Lists [] and Python Dictionaries {}.\n",
    "\n",
    "- title: Lists, Dictionaries, Iteration\n",
    "- toc: true\n",
    "- categories: [units]\n",
    "- permalink: /posts/notesdone\n",
    "- image: /images/python_lists.png\n",
    "- tags: [python]\n",
    "- type: ap\n",
    "- week: 2"
   ]
  },
  {
   "cell_type": "markdown",
   "metadata": {},
   "source": [
    "## Algorithms\n",
    "\n",
    "Algorithms  are when programming languages have a set of things to go through to accomplish tasks, this can be done by sequencing which is when an algorithm does things in one certain order, Selection when an algorithm can choose two different outcomes based off a decision in the algorithm, with iteration algorithms can also repeat if a condition is true.\n",
    "\n",
    "Flowcharts can represent algorithms for planning things out. \n",
    "\n",
    "Arithmetic Operations: \n",
    "Subtraction, Addition, Multiplication, Division, Remainder\n",
    "In the ap exam the language does arithmetic in PEMDAS\n",
    "\n",
    "Variables:\n",
    "Can store a numerical value as an integer, mep\n",
    "Can assign a variable to another value\n",
    "Can store the result of an operation as a variable\n",
    "A procedural variable \n",
    "\n",
    "The sequence of variables is important, as the order that things are in determines their outcome.\n",
    "\n",
    "Tracking variables is often shown on ap exams, and being able to know how each changes and 1is approved is important. "
   ]
  },
  {
   "cell_type": "markdown",
   "metadata": {},
   "source": [
    "## Strings\n",
    "\n",
    "Strings, a string is a collection of characters, it could be anything, numbers, letters, special ch aracters. \n",
    "As string is a collection of characters. \n",
    "len(string), c\n",
    "lower() to conver to lowercase\n",
    "concat is in pseudocode of ap exam, it puts strings together\n",
    "substring is pseudocode of the ap exam,  (\"abcdefghijk\", 2, 5) would print bcde (pseudocode starts at 1)\n",
    "\n",
    "String concatenation combines w or more strings to create a new singt concat(\"Cookie\", \"Monster\")-? CookieMonster\n",
    "\n",
    "concat(\"Mr.Mortenson is very handsome\" 1, 2) the system would return Mr (remember that pseudocode starts at 1)\n",
    "\n",
    "Very handsome mr.mort is"
   ]
  },
  {
   "cell_type": "markdown",
   "metadata": {},
   "source": [
    "### Homework \n",
    "\n",
    "1. Num 2 = 50%9 + 15 =20\n",
    "Num 3 = 20 / 50 + (20*2)= 40.4\n",
    "Num 4 = 40.4 + 50 / 5 - 10 = 40.4\n",
    "Result = 40.4 - 2- = 20.4\n",
    "\n",
    "2. Num 2 = 4\n",
    "Num1 = 4\n",
    "Num 3= 12\n",
    "Result = 0\n",
    "\n",
    "3.  Value B = 14\n",
    "Value A = 40\n",
    "printed -> 17\n",
    "\n",
    "4. printed -> `straight brown short`"
   ]
  },
  {
   "cell_type": "markdown",
   "metadata": {},
   "source": [
    "### Strings, Problem 1:\n",
    "`Abrev= Mr.Mort`\n",
    "\n",
    "`yoda = Very Handsome Mr.Mort is`\n",
    "\n",
    "Problem 2:\n",
    "I interpreted the len1 variables as being \n",
    "len(cookie)/2,\n",
    "`vote1 = choclate vote 4`\n",
    "`vote2 = rasin vote 225`\n",
    "`votes = choclate vote 4 rasin vote 225`\n"
   ]
  }
 ],
 "metadata": {
  "kernelspec": {
   "display_name": "Python 3.9.12 ('base')",
   "language": "python",
   "name": "python3"
  },
  "language_info": {
   "codemirror_mode": {
    "name": "ipython",
    "version": 3
   },
   "file_extension": ".py",
   "mimetype": "text/x-python",
   "name": "python",
   "nbconvert_exporter": "python",
   "pygments_lexer": "ipython3",
   "version": "3.9.12"
  },
  "orig_nbformat": 4,
  "vscode": {
   "interpreter": {
    "hash": "289762bfef0c13eec96403755dc6a123221745d77b4e51a71a7ef5c7578571d1"
   }
  }
 },
 "nbformat": 4,
 "nbformat_minor": 2
}
